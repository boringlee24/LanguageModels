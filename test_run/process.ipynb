{
 "cells": [
  {
   "cell_type": "code",
   "execution_count": 1,
   "id": "4931e569",
   "metadata": {},
   "outputs": [],
   "source": [
    "import pandas as pd\n",
    "import pdb\n",
    "import json\n",
    "import numpy as np"
   ]
  },
  {
   "cell_type": "code",
   "execution_count": 2,
   "id": "3522307b",
   "metadata": {},
   "outputs": [],
   "source": [
    "speed = []\n",
    "time = []\n",
    "power = []\n",
    "path = '/scratch/li.baol/bert-mlm/test_dir/'\n",
    "for cap in [250, 200, 150]:\n",
    "    with open(f'{path}{cap}/train_results.json') as f:\n",
    "        result = json.load(f)\n",
    "    speed.append(result['train_samples_per_second'])\n",
    "    time.append(result['train_runtime'])\n",
    "    df = pd.read_csv(f'{path}a100_{cap}_bert.csv')\n",
    "    pwr_col = df[' power.draw [W]']\n",
    "    power.append(np.mean(pwr_col))\n",
    "energy = np.array(time) * np.array(power)"
   ]
  },
  {
   "cell_type": "code",
   "execution_count": 3,
   "id": "eaf18c28",
   "metadata": {},
   "outputs": [
    {
     "data": {
      "text/plain": [
       "([229.48183289424162, 192.2642480211082, 147.35760894278135],\n",
       " [627.9548, 657.1281, 744.7879],\n",
       " array([144104.21847874, 126342.24000004, 109750.16411352]),\n",
       " [73.684, 70.412, 62.125])"
      ]
     },
     "execution_count": 3,
     "metadata": {},
     "output_type": "execute_result"
    }
   ],
   "source": [
    "power,time,energy, speed"
   ]
  },
  {
   "cell_type": "code",
   "execution_count": 4,
   "id": "808ba2ed",
   "metadata": {},
   "outputs": [
    {
     "data": {
      "text/plain": [
       "([1.0, 0.955594158840454, 0.8431274089354541],\n",
       " array([1.        , 0.87674213, 0.76160272]))"
      ]
     },
     "execution_count": 4,
     "metadata": {},
     "output_type": "execute_result"
    }
   ],
   "source": [
    "speed = [k/speed[0] for k in speed]\n",
    "energy = energy / energy[0]\n",
    "speed, energy"
   ]
  },
  {
   "cell_type": "code",
   "execution_count": null,
   "id": "6e676d84",
   "metadata": {},
   "outputs": [],
   "source": []
  }
 ],
 "metadata": {
  "kernelspec": {
   "display_name": "Python 3 (ipykernel)",
   "language": "python",
   "name": "python3"
  },
  "language_info": {
   "codemirror_mode": {
    "name": "ipython",
    "version": 3
   },
   "file_extension": ".py",
   "mimetype": "text/x-python",
   "name": "python",
   "nbconvert_exporter": "python",
   "pygments_lexer": "ipython3",
   "version": "3.7.11"
  }
 },
 "nbformat": 4,
 "nbformat_minor": 5
}
